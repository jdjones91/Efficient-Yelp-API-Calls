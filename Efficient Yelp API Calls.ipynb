{
 "cells": [
  {
   "cell_type": "markdown",
   "id": "808719be",
   "metadata": {},
   "source": [
    "# James Jones\n",
    "### 11-16-2022"
   ]
  },
  {
   "cell_type": "code",
   "execution_count": 8,
   "id": "30aafbc9",
   "metadata": {},
   "outputs": [],
   "source": [
    "# Import libraies necessary for efficient API calls\n",
    "import numpy as np\n",
    "import pandas as pd\n",
    "import seaborn as sns\n",
    "import os, json, math, time\n",
    "from yelpapi import YelpAPI\n",
    "import matplotlib.pyplot as plt\n",
    "from tqdm.notebook import tqdm_notebook"
   ]
  },
  {
   "cell_type": "code",
   "execution_count": 4,
   "id": "408f7064",
   "metadata": {},
   "outputs": [],
   "source": [
    "# Load API credentials\n",
    "with open('/Users/jamesjones/.secret/yelp_api.json') as f:\n",
    "    login = json.load(f)\n",
    "\n",
    "# Instantiate YelpAPI\n",
    "yelp_api = YelpAPI(login['api-key'], timeout_s = 5.0)    "
   ]
  },
  {
   "cell_type": "code",
   "execution_count": 5,
   "id": "c758818f",
   "metadata": {},
   "outputs": [],
   "source": [
    "# Decide what to search. I will search hot chicken in nashville\n",
    "LOCATION = 'Nashvile, TN'\n",
    "TERM = \"Hot Chicken\""
   ]
  },
  {
   "cell_type": "code",
   "execution_count": 6,
   "id": "24fe4224",
   "metadata": {},
   "outputs": [
    {
     "data": {
      "text/plain": [
       "'Data/results_in_progress_Nashville_Hot.json'"
      ]
     },
     "execution_count": 6,
     "metadata": {},
     "output_type": "execute_result"
    }
   ],
   "source": [
    "# Specify a json filename to create \n",
    "JSON_FILE = \"Data/results_in_progress_Nashville_Hot.json\"\n",
    "JSON_FILE"
   ]
  },
  {
   "cell_type": "code",
   "execution_count": 7,
   "id": "29d6d3f4",
   "metadata": {},
   "outputs": [
    {
     "name": "stdout",
     "output_type": "stream",
     "text": [
      "[i] Data/results_in_progress_Nashville_Hot.json not found. Saving empty list to file.\n"
     ]
    }
   ],
   "source": [
    "# Check if file exists, and create it if not\n",
    "    # This is for practice, because this file does not already exist\n",
    "\n",
    "file_exists = os.path.isfile(JSON_FILE)\n",
    "\n",
    "if file_exists == False:\n",
    "    folder = os.path.dirname(JSON_FILE)\n",
    "    \n",
    "    if len(folder) > 0:\n",
    "        os.makedirs(folder, exist_ok = True)\n",
    "    \n",
    "    print(f'[i] {JSON_FILE} not found. Saving empty list to file.')\n",
    "    \n",
    "    with open(JSON_FILE, 'w') as f:\n",
    "        json.dump([], f)\n",
    "else:\n",
    "    print(f'[i] {JSON_FILE} already exists.')"
   ]
  },
  {
   "cell_type": "code",
   "execution_count": 13,
   "id": "2a5e1189",
   "metadata": {},
   "outputs": [
    {
     "name": "stdout",
     "output_type": "stream",
     "text": [
      "- 0 previous results found.\n"
     ]
    }
   ],
   "source": [
    "# Use our yelp_api variable's search_query method to perform our API call\n",
    "    # Currently 0 as no call has been made yet\n",
    "\n",
    "with open(JSON_FILE, 'r') as f:\n",
    "    previous_results = json.load(f)\n",
    "    \n",
    "n_results = len(previous_results)\n",
    "print(f'- {n_results} previous results found.')"
   ]
  },
  {
   "cell_type": "code",
   "execution_count": 15,
   "id": "995336cc",
   "metadata": {},
   "outputs": [
    {
     "data": {
      "text/plain": [
       "923"
      ]
     },
     "execution_count": 15,
     "metadata": {},
     "output_type": "execute_result"
    }
   ],
   "source": [
    "# What is the total number of results?\n",
    "total_results = results['total']\n",
    "total_results"
   ]
  },
  {
   "cell_type": "markdown",
   "id": "f0d9b1a1",
   "metadata": {},
   "source": [
    "#### Yelp API will let us make 1000 calls at a time with the free version of their API, therefore we should be able to gather all of these results"
   ]
  },
  {
   "cell_type": "code",
   "execution_count": 17,
   "id": "67bd6b2d",
   "metadata": {},
   "outputs": [
    {
     "data": {
      "text/plain": [
       "20"
      ]
     },
     "execution_count": 17,
     "metadata": {},
     "output_type": "execute_result"
    }
   ],
   "source": [
    "# How many results are there per page? (will be 20 by stabdard pagination)\n",
    "results_per_page = len(results['businesses'])\n",
    "results_per_page"
   ]
  },
  {
   "cell_type": "code",
   "execution_count": 19,
   "id": "61b1d7e4",
   "metadata": {},
   "outputs": [
    {
     "data": {
      "text/plain": [
       "47"
      ]
     },
     "execution_count": 19,
     "metadata": {},
     "output_type": "execute_result"
    }
   ],
   "source": [
    "# Now, let's use 'math.ceil' to find, and round up our total number of pages\n",
    "n_pages = math.ceil((results['total'] - n_results) / results_per_page)\n",
    "n_pages"
   ]
  },
  {
   "cell_type": "code",
   "execution_count": 22,
   "id": "7484bfa7",
   "metadata": {},
   "outputs": [
    {
     "data": {
      "application/json": {
       "ascii": false,
       "bar_format": null,
       "colour": null,
       "elapsed": 0.01448202133178711,
       "initial": 0,
       "n": 0,
       "ncols": null,
       "nrows": 24,
       "postfix": null,
       "prefix": "",
       "rate": null,
       "total": 46,
       "unit": "it",
       "unit_divisor": 1000,
       "unit_scale": false
      },
      "application/vnd.jupyter.widget-view+json": {
       "model_id": "40a906574195485891f79d4820aa17df",
       "version_major": 2,
       "version_minor": 0
      },
      "text/plain": [
       "  0%|          | 0/46 [00:00<?, ?it/s]"
      ]
     },
     "metadata": {},
     "output_type": "display_data"
    }
   ],
   "source": [
    "# Now, let's create a loop to gather all of the information connected to:\n",
    "    # Hot Chicken in Nashville, TN\n",
    "\n",
    "for i in tqdm_notebook(range(1, n_pages)):\n",
    "    with open(JSON_FILE, 'r') as f:\n",
    "        previous_results = json.load(f)\n",
    "        \n",
    "    if (n_results + results_per_page) > 1000:\n",
    "        print('Exceeded 1000 api calls. Stopping loop.')\n",
    "        break\n",
    "        \n",
    "    previous_results.extend(results['businesses'])\n",
    "        \n",
    "    with open(JSON_FILE, 'w') as f:\n",
    "        json.dump(previous_results, f)\n",
    "    \n",
    "    time.sleep(0.2) # Adds a 200ms stop so we don't bog down the sever as much"
   ]
  },
  {
   "cell_type": "code",
   "execution_count": 23,
   "id": "74cd2124",
   "metadata": {},
   "outputs": [
    {
     "data": {
      "text/html": [
       "<div>\n",
       "<style scoped>\n",
       "    .dataframe tbody tr th:only-of-type {\n",
       "        vertical-align: middle;\n",
       "    }\n",
       "\n",
       "    .dataframe tbody tr th {\n",
       "        vertical-align: top;\n",
       "    }\n",
       "\n",
       "    .dataframe thead th {\n",
       "        text-align: right;\n",
       "    }\n",
       "</style>\n",
       "<table border=\"1\" class=\"dataframe\">\n",
       "  <thead>\n",
       "    <tr style=\"text-align: right;\">\n",
       "      <th></th>\n",
       "      <th>id</th>\n",
       "      <th>alias</th>\n",
       "      <th>name</th>\n",
       "      <th>image_url</th>\n",
       "      <th>is_closed</th>\n",
       "      <th>url</th>\n",
       "      <th>review_count</th>\n",
       "      <th>categories</th>\n",
       "      <th>rating</th>\n",
       "      <th>coordinates</th>\n",
       "      <th>transactions</th>\n",
       "      <th>price</th>\n",
       "      <th>location</th>\n",
       "      <th>phone</th>\n",
       "      <th>display_phone</th>\n",
       "      <th>distance</th>\n",
       "    </tr>\n",
       "  </thead>\n",
       "  <tbody>\n",
       "    <tr>\n",
       "      <th>0</th>\n",
       "      <td>AVf4RO3bh2AAoZeCiPTQNg</td>\n",
       "      <td>hattie-bs-hot-chicken-nashville-melrose-nashvi...</td>\n",
       "      <td>Hattie B's Hot Chicken - Nashville Melrose</td>\n",
       "      <td>https://s3-media1.fl.yelpcdn.com/bphoto/YqfYFz...</td>\n",
       "      <td>False</td>\n",
       "      <td>https://www.yelp.com/biz/hattie-bs-hot-chicken...</td>\n",
       "      <td>970</td>\n",
       "      <td>[{'alias': 'chicken_wings', 'title': 'Chicken ...</td>\n",
       "      <td>4.5</td>\n",
       "      <td>{'latitude': 36.1290083208725, 'longitude': -8...</td>\n",
       "      <td>[delivery]</td>\n",
       "      <td>$$</td>\n",
       "      <td>{'address1': '2222 8th Ave S', 'address2': '',...</td>\n",
       "      <td>16157224700</td>\n",
       "      <td>(615) 722-4700</td>\n",
       "      <td>983.709790</td>\n",
       "    </tr>\n",
       "    <tr>\n",
       "      <th>1</th>\n",
       "      <td>GXFMD0Z4jEVZBCsbPf4CTQ</td>\n",
       "      <td>hattie-b-s-hot-chicken-nashville-midtown-nashv...</td>\n",
       "      <td>Hattie B’s Hot Chicken - Nashville - Midtown</td>\n",
       "      <td>https://s3-media1.fl.yelpcdn.com/bphoto/0KANbu...</td>\n",
       "      <td>False</td>\n",
       "      <td>https://www.yelp.com/biz/hattie-b-s-hot-chicke...</td>\n",
       "      <td>6687</td>\n",
       "      <td>[{'alias': 'chicken_wings', 'title': 'Chicken ...</td>\n",
       "      <td>4.5</td>\n",
       "      <td>{'latitude': 36.1513871522975, 'longitude': -8...</td>\n",
       "      <td>[delivery]</td>\n",
       "      <td>$$</td>\n",
       "      <td>{'address1': '112 19th Ave S', 'address2': '',...</td>\n",
       "      <td>16158025700</td>\n",
       "      <td>(615) 802-5700</td>\n",
       "      <td>2429.649393</td>\n",
       "    </tr>\n",
       "    <tr>\n",
       "      <th>2</th>\n",
       "      <td>xB3MxRBF6l8rd9xxJVnLhw</td>\n",
       "      <td>hattie-b-s-hot-chicken-nashville-lower-broadwa...</td>\n",
       "      <td>Hattie B’s Hot Chicken - Nashville - Lower Bro...</td>\n",
       "      <td>https://s3-media1.fl.yelpcdn.com/bphoto/2Fdane...</td>\n",
       "      <td>False</td>\n",
       "      <td>https://www.yelp.com/biz/hattie-b-s-hot-chicke...</td>\n",
       "      <td>405</td>\n",
       "      <td>[{'alias': 'chickenshop', 'title': 'Chicken Sh...</td>\n",
       "      <td>4.5</td>\n",
       "      <td>{'latitude': 36.160336468836555, 'longitude': ...</td>\n",
       "      <td>[]</td>\n",
       "      <td>$$</td>\n",
       "      <td>{'address1': '5069 Broadway Pl', 'address2': '...</td>\n",
       "      <td>16155768700</td>\n",
       "      <td>(615) 576-8700</td>\n",
       "      <td>2541.584388</td>\n",
       "    </tr>\n",
       "    <tr>\n",
       "      <th>3</th>\n",
       "      <td>16tjKOvMw_nOgNViq2LwOQ</td>\n",
       "      <td>hattie-bs-hot-chicken-nashville-west-nashville-2</td>\n",
       "      <td>Hattie B's Hot Chicken - Nashville West</td>\n",
       "      <td>https://s3-media2.fl.yelpcdn.com/bphoto/rfNW9g...</td>\n",
       "      <td>False</td>\n",
       "      <td>https://www.yelp.com/biz/hattie-bs-hot-chicken...</td>\n",
       "      <td>1446</td>\n",
       "      <td>[{'alias': 'chicken_wings', 'title': 'Chicken ...</td>\n",
       "      <td>4.5</td>\n",
       "      <td>{'latitude': 36.15157, 'longitude': -86.85082}</td>\n",
       "      <td>[delivery]</td>\n",
       "      <td>$$</td>\n",
       "      <td>{'address1': '5209 Charlotte Ave', 'address2':...</td>\n",
       "      <td>16155763900</td>\n",
       "      <td>(615) 576-3900</td>\n",
       "      <td>6932.443680</td>\n",
       "    </tr>\n",
       "  </tbody>\n",
       "</table>\n",
       "</div>"
      ],
      "text/plain": [
       "                       id                                              alias  \\\n",
       "0  AVf4RO3bh2AAoZeCiPTQNg  hattie-bs-hot-chicken-nashville-melrose-nashvi...   \n",
       "1  GXFMD0Z4jEVZBCsbPf4CTQ  hattie-b-s-hot-chicken-nashville-midtown-nashv...   \n",
       "2  xB3MxRBF6l8rd9xxJVnLhw  hattie-b-s-hot-chicken-nashville-lower-broadwa...   \n",
       "3  16tjKOvMw_nOgNViq2LwOQ   hattie-bs-hot-chicken-nashville-west-nashville-2   \n",
       "\n",
       "                                                name  \\\n",
       "0         Hattie B's Hot Chicken - Nashville Melrose   \n",
       "1       Hattie B’s Hot Chicken - Nashville - Midtown   \n",
       "2  Hattie B’s Hot Chicken - Nashville - Lower Bro...   \n",
       "3            Hattie B's Hot Chicken - Nashville West   \n",
       "\n",
       "                                           image_url  is_closed  \\\n",
       "0  https://s3-media1.fl.yelpcdn.com/bphoto/YqfYFz...      False   \n",
       "1  https://s3-media1.fl.yelpcdn.com/bphoto/0KANbu...      False   \n",
       "2  https://s3-media1.fl.yelpcdn.com/bphoto/2Fdane...      False   \n",
       "3  https://s3-media2.fl.yelpcdn.com/bphoto/rfNW9g...      False   \n",
       "\n",
       "                                                 url  review_count  \\\n",
       "0  https://www.yelp.com/biz/hattie-bs-hot-chicken...           970   \n",
       "1  https://www.yelp.com/biz/hattie-b-s-hot-chicke...          6687   \n",
       "2  https://www.yelp.com/biz/hattie-b-s-hot-chicke...           405   \n",
       "3  https://www.yelp.com/biz/hattie-bs-hot-chicken...          1446   \n",
       "\n",
       "                                          categories  rating  \\\n",
       "0  [{'alias': 'chicken_wings', 'title': 'Chicken ...     4.5   \n",
       "1  [{'alias': 'chicken_wings', 'title': 'Chicken ...     4.5   \n",
       "2  [{'alias': 'chickenshop', 'title': 'Chicken Sh...     4.5   \n",
       "3  [{'alias': 'chicken_wings', 'title': 'Chicken ...     4.5   \n",
       "\n",
       "                                         coordinates transactions price  \\\n",
       "0  {'latitude': 36.1290083208725, 'longitude': -8...   [delivery]    $$   \n",
       "1  {'latitude': 36.1513871522975, 'longitude': -8...   [delivery]    $$   \n",
       "2  {'latitude': 36.160336468836555, 'longitude': ...           []    $$   \n",
       "3     {'latitude': 36.15157, 'longitude': -86.85082}   [delivery]    $$   \n",
       "\n",
       "                                            location        phone  \\\n",
       "0  {'address1': '2222 8th Ave S', 'address2': '',...  16157224700   \n",
       "1  {'address1': '112 19th Ave S', 'address2': '',...  16158025700   \n",
       "2  {'address1': '5069 Broadway Pl', 'address2': '...  16155768700   \n",
       "3  {'address1': '5209 Charlotte Ave', 'address2':...  16155763900   \n",
       "\n",
       "    display_phone     distance  \n",
       "0  (615) 722-4700   983.709790  \n",
       "1  (615) 802-5700  2429.649393  \n",
       "2  (615) 576-8700  2541.584388  \n",
       "3  (615) 576-3900  6932.443680  "
      ]
     },
     "metadata": {},
     "output_type": "display_data"
    },
    {
     "data": {
      "text/html": [
       "<div>\n",
       "<style scoped>\n",
       "    .dataframe tbody tr th:only-of-type {\n",
       "        vertical-align: middle;\n",
       "    }\n",
       "\n",
       "    .dataframe tbody tr th {\n",
       "        vertical-align: top;\n",
       "    }\n",
       "\n",
       "    .dataframe thead th {\n",
       "        text-align: right;\n",
       "    }\n",
       "</style>\n",
       "<table border=\"1\" class=\"dataframe\">\n",
       "  <thead>\n",
       "    <tr style=\"text-align: right;\">\n",
       "      <th></th>\n",
       "      <th>id</th>\n",
       "      <th>alias</th>\n",
       "      <th>name</th>\n",
       "      <th>image_url</th>\n",
       "      <th>is_closed</th>\n",
       "      <th>url</th>\n",
       "      <th>review_count</th>\n",
       "      <th>categories</th>\n",
       "      <th>rating</th>\n",
       "      <th>coordinates</th>\n",
       "      <th>transactions</th>\n",
       "      <th>price</th>\n",
       "      <th>location</th>\n",
       "      <th>phone</th>\n",
       "      <th>display_phone</th>\n",
       "      <th>distance</th>\n",
       "    </tr>\n",
       "  </thead>\n",
       "  <tbody>\n",
       "    <tr>\n",
       "      <th>916</th>\n",
       "      <td>3_WGRjRrnZX2b4ZVpjmL6w</td>\n",
       "      <td>arnolds-country-kitchen-nashville</td>\n",
       "      <td>Arnold's Country Kitchen</td>\n",
       "      <td>https://s3-media3.fl.yelpcdn.com/bphoto/bmvzep...</td>\n",
       "      <td>False</td>\n",
       "      <td>https://www.yelp.com/biz/arnolds-country-kitch...</td>\n",
       "      <td>1168</td>\n",
       "      <td>[{'alias': 'southern', 'title': 'Southern'}, {...</td>\n",
       "      <td>4.5</td>\n",
       "      <td>{'latitude': 36.1514, 'longitude': -86.77958}</td>\n",
       "      <td>[delivery, pickup]</td>\n",
       "      <td>$$</td>\n",
       "      <td>{'address1': '605 8th Ave S', 'address2': '', ...</td>\n",
       "      <td>16152564455</td>\n",
       "      <td>(615) 256-4455</td>\n",
       "      <td>1573.667137</td>\n",
       "    </tr>\n",
       "    <tr>\n",
       "      <th>917</th>\n",
       "      <td>6Pu5MKIWbn6FO-oebSSrYQ</td>\n",
       "      <td>the-southern-steak-and-oyster-nashville-2</td>\n",
       "      <td>The Southern Steak &amp; Oyster</td>\n",
       "      <td>https://s3-media3.fl.yelpcdn.com/bphoto/gd7QME...</td>\n",
       "      <td>False</td>\n",
       "      <td>https://www.yelp.com/biz/the-southern-steak-an...</td>\n",
       "      <td>2429</td>\n",
       "      <td>[{'alias': 'southern', 'title': 'Southern'}, {...</td>\n",
       "      <td>4.0</td>\n",
       "      <td>{'latitude': 36.1598191068257, 'longitude': -8...</td>\n",
       "      <td>[delivery]</td>\n",
       "      <td>$$$</td>\n",
       "      <td>{'address1': '150 3rd Ave S', 'address2': 'Ste...</td>\n",
       "      <td>16157241762</td>\n",
       "      <td>(615) 724-1762</td>\n",
       "      <td>2460.859842</td>\n",
       "    </tr>\n",
       "    <tr>\n",
       "      <th>918</th>\n",
       "      <td>zwGzwkVeYXE-tRisb8if7A</td>\n",
       "      <td>smokin-thighs-wedgewood-nashville-2</td>\n",
       "      <td>Smokin Thighs - Wedgewood</td>\n",
       "      <td>https://s3-media3.fl.yelpcdn.com/bphoto/ewWJJ-...</td>\n",
       "      <td>False</td>\n",
       "      <td>https://www.yelp.com/biz/smokin-thighs-wedgewo...</td>\n",
       "      <td>576</td>\n",
       "      <td>[{'alias': 'chicken_wings', 'title': 'Chicken ...</td>\n",
       "      <td>4.0</td>\n",
       "      <td>{'latitude': 36.133133, 'longitude': -86.769974}</td>\n",
       "      <td>[delivery, pickup]</td>\n",
       "      <td>$$</td>\n",
       "      <td>{'address1': '611 Wedgewood Ave', 'address2': ...</td>\n",
       "      <td>16156012582</td>\n",
       "      <td>(615) 601-2582</td>\n",
       "      <td>709.317390</td>\n",
       "    </tr>\n",
       "    <tr>\n",
       "      <th>919</th>\n",
       "      <td>GST3wg-wej15vHeCvaXE6w</td>\n",
       "      <td>acme-feed-and-seed-nashville</td>\n",
       "      <td>Acme Feed &amp; Seed</td>\n",
       "      <td>https://s3-media2.fl.yelpcdn.com/bphoto/1SdisP...</td>\n",
       "      <td>False</td>\n",
       "      <td>https://www.yelp.com/biz/acme-feed-and-seed-na...</td>\n",
       "      <td>1849</td>\n",
       "      <td>[{'alias': 'bars', 'title': 'Bars'}, {'alias':...</td>\n",
       "      <td>4.0</td>\n",
       "      <td>{'latitude': 36.16187, 'longitude': -86.77432}</td>\n",
       "      <td>[delivery]</td>\n",
       "      <td>$$</td>\n",
       "      <td>{'address1': '101 Broadway', 'address2': None,...</td>\n",
       "      <td>16159150888</td>\n",
       "      <td>(615) 915-0888</td>\n",
       "      <td>2705.629935</td>\n",
       "    </tr>\n",
       "  </tbody>\n",
       "</table>\n",
       "</div>"
      ],
      "text/plain": [
       "                         id                                      alias  \\\n",
       "916  3_WGRjRrnZX2b4ZVpjmL6w          arnolds-country-kitchen-nashville   \n",
       "917  6Pu5MKIWbn6FO-oebSSrYQ  the-southern-steak-and-oyster-nashville-2   \n",
       "918  zwGzwkVeYXE-tRisb8if7A        smokin-thighs-wedgewood-nashville-2   \n",
       "919  GST3wg-wej15vHeCvaXE6w               acme-feed-and-seed-nashville   \n",
       "\n",
       "                            name  \\\n",
       "916     Arnold's Country Kitchen   \n",
       "917  The Southern Steak & Oyster   \n",
       "918    Smokin Thighs - Wedgewood   \n",
       "919             Acme Feed & Seed   \n",
       "\n",
       "                                             image_url  is_closed  \\\n",
       "916  https://s3-media3.fl.yelpcdn.com/bphoto/bmvzep...      False   \n",
       "917  https://s3-media3.fl.yelpcdn.com/bphoto/gd7QME...      False   \n",
       "918  https://s3-media3.fl.yelpcdn.com/bphoto/ewWJJ-...      False   \n",
       "919  https://s3-media2.fl.yelpcdn.com/bphoto/1SdisP...      False   \n",
       "\n",
       "                                                   url  review_count  \\\n",
       "916  https://www.yelp.com/biz/arnolds-country-kitch...          1168   \n",
       "917  https://www.yelp.com/biz/the-southern-steak-an...          2429   \n",
       "918  https://www.yelp.com/biz/smokin-thighs-wedgewo...           576   \n",
       "919  https://www.yelp.com/biz/acme-feed-and-seed-na...          1849   \n",
       "\n",
       "                                            categories  rating  \\\n",
       "916  [{'alias': 'southern', 'title': 'Southern'}, {...     4.5   \n",
       "917  [{'alias': 'southern', 'title': 'Southern'}, {...     4.0   \n",
       "918  [{'alias': 'chicken_wings', 'title': 'Chicken ...     4.0   \n",
       "919  [{'alias': 'bars', 'title': 'Bars'}, {'alias':...     4.0   \n",
       "\n",
       "                                           coordinates        transactions  \\\n",
       "916      {'latitude': 36.1514, 'longitude': -86.77958}  [delivery, pickup]   \n",
       "917  {'latitude': 36.1598191068257, 'longitude': -8...          [delivery]   \n",
       "918   {'latitude': 36.133133, 'longitude': -86.769974}  [delivery, pickup]   \n",
       "919     {'latitude': 36.16187, 'longitude': -86.77432}          [delivery]   \n",
       "\n",
       "    price                                           location        phone  \\\n",
       "916    $$  {'address1': '605 8th Ave S', 'address2': '', ...  16152564455   \n",
       "917   $$$  {'address1': '150 3rd Ave S', 'address2': 'Ste...  16157241762   \n",
       "918    $$  {'address1': '611 Wedgewood Ave', 'address2': ...  16156012582   \n",
       "919    $$  {'address1': '101 Broadway', 'address2': None,...  16159150888   \n",
       "\n",
       "      display_phone     distance  \n",
       "916  (615) 256-4455  1573.667137  \n",
       "917  (615) 724-1762  2460.859842  \n",
       "918  (615) 601-2582   709.317390  \n",
       "919  (615) 915-0888  2705.629935  "
      ]
     },
     "metadata": {},
     "output_type": "display_data"
    }
   ],
   "source": [
    "# Convert .json to a DF for visualization\n",
    "chicken_df = pd.read_json(JSON_FILE)\n",
    "display(chicken_df.head(4), chicken_df.tail(4))"
   ]
  },
  {
   "cell_type": "code",
   "execution_count": 24,
   "id": "80fe0359",
   "metadata": {},
   "outputs": [
    {
     "data": {
      "text/plain": [
       "900"
      ]
     },
     "execution_count": 24,
     "metadata": {},
     "output_type": "execute_result"
    }
   ],
   "source": [
    "# Check these results for duplicate id's\n",
    "chicken_df.duplicated(subset = 'id').sum()"
   ]
  },
  {
   "cell_type": "markdown",
   "id": "249ab088",
   "metadata": {},
   "source": [
    "### This seems exorbitant, but, having lived in Nashville, I am inclined to believe that this is correct (or mostly correct). If this was the case for Pizza in New York, I would have more reservations"
   ]
  },
  {
   "cell_type": "code",
   "execution_count": 25,
   "id": "444b5afb",
   "metadata": {},
   "outputs": [
    {
     "data": {
      "text/plain": [
       "0"
      ]
     },
     "execution_count": 25,
     "metadata": {},
     "output_type": "execute_result"
    }
   ],
   "source": [
    "# Drop duplicate id's and confirm that there are no more duplicates\n",
    "chicken_df = chicken_df.drop_duplicates(subset = 'id')\n",
    "chicken_df.duplicated(subset = 'id').sum()"
   ]
  },
  {
   "cell_type": "code",
   "execution_count": 26,
   "id": "ceef9469",
   "metadata": {},
   "outputs": [],
   "source": [
    "# Now save this final df to the file we previously created\n",
    "    # This will be a small file (since we dropped so many duplicates)\n",
    "    # We will, however, still compress this as standard of practice\n",
    "\n",
    "chicken_df.to_csv('Data/final_results_Nashville_Hot.csv.gz',\n",
    "                  compression = 'gzip', index = False)"
   ]
  },
  {
   "cell_type": "code",
   "execution_count": null,
   "id": "3062d024",
   "metadata": {},
   "outputs": [],
   "source": []
  },
  {
   "cell_type": "code",
   "execution_count": null,
   "id": "769721d0",
   "metadata": {},
   "outputs": [],
   "source": []
  },
  {
   "cell_type": "code",
   "execution_count": null,
   "id": "46ce87d1",
   "metadata": {},
   "outputs": [],
   "source": []
  },
  {
   "cell_type": "code",
   "execution_count": null,
   "id": "6464c5e9",
   "metadata": {},
   "outputs": [],
   "source": []
  },
  {
   "cell_type": "code",
   "execution_count": null,
   "id": "3bd1e373",
   "metadata": {},
   "outputs": [],
   "source": []
  },
  {
   "cell_type": "code",
   "execution_count": null,
   "id": "fc7ebb13",
   "metadata": {},
   "outputs": [],
   "source": []
  },
  {
   "cell_type": "code",
   "execution_count": null,
   "id": "48878e49",
   "metadata": {},
   "outputs": [],
   "source": []
  },
  {
   "cell_type": "code",
   "execution_count": null,
   "id": "fd1b008d",
   "metadata": {},
   "outputs": [],
   "source": []
  },
  {
   "cell_type": "code",
   "execution_count": null,
   "id": "5e299748",
   "metadata": {},
   "outputs": [],
   "source": []
  },
  {
   "cell_type": "code",
   "execution_count": null,
   "id": "131d42b1",
   "metadata": {},
   "outputs": [],
   "source": []
  },
  {
   "cell_type": "code",
   "execution_count": null,
   "id": "2709b13b",
   "metadata": {},
   "outputs": [],
   "source": []
  },
  {
   "cell_type": "code",
   "execution_count": null,
   "id": "13aa9fe4",
   "metadata": {},
   "outputs": [],
   "source": []
  }
 ],
 "metadata": {
  "kernelspec": {
   "display_name": "Python (dojo-env)",
   "language": "python",
   "name": "dojo-env"
  },
  "language_info": {
   "codemirror_mode": {
    "name": "ipython",
    "version": 3
   },
   "file_extension": ".py",
   "mimetype": "text/x-python",
   "name": "python",
   "nbconvert_exporter": "python",
   "pygments_lexer": "ipython3",
   "version": "3.8.13"
  },
  "toc": {
   "base_numbering": 1,
   "nav_menu": {},
   "number_sections": false,
   "sideBar": true,
   "skip_h1_title": false,
   "title_cell": "Table of Contents",
   "title_sidebar": "Contents",
   "toc_cell": false,
   "toc_position": {},
   "toc_section_display": true,
   "toc_window_display": false
  }
 },
 "nbformat": 4,
 "nbformat_minor": 5
}
